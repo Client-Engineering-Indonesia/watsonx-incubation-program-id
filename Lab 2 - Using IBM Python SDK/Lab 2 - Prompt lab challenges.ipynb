{
 "cells": [
  {
   "cell_type": "markdown",
   "metadata": {},
   "source": [
    "# Prompt Lab Challenge Exercises Notebook\n",
    "\n",
    "Welcome to the second prompt lab in the bootcamp series, you should have completed lab 1 and the exercises follow on from those. If you completed all the exercises in Lab 1 you should find most of the exercises here straightforward\n",
    "\n",
    "This notebook is a template with all the exercises and indications of what the output should look like if you do a good job with the prompts.\n",
    "\n",
    "Before you start you should have a Python environment with the necessary libraries installed as indicated in the intro lab, you will also need a .env file with:\n",
    "\n",
    "your IBM Cloud API key\n",
    "the IBM Cloud regional URL (eg, https://us-south.ml.cloud.ibm.com)\n",
    "the project ID associated with your WatsonX project (required by the WML Python SDK)\n",
    "It should take you about 30-45 min to walk through the exercises self paced\n",
    "\n",
    "Good luck and make sure you compare your answers with the model solutions"
   ]
  },
  {
   "cell_type": "code",
   "execution_count": null,
   "metadata": {},
   "outputs": [],
   "source": [
    "import os\n",
    "from dotenv import load_dotenv\n",
    "from ibm_watson_machine_learning.foundation_models import Model\n",
    "from ibm_watson_machine_learning.metanames import GenTextParamsMetaNames as GenParams"
   ]
  },
  {
   "cell_type": "markdown",
   "metadata": {},
   "source": [
    "Load credentials for Watsonx.ai (note refer to lab explaining how to do this if necessary)\n",
    "- you should have a .env file with your IBM Cloud API key, eg API_KEY=xxx\n",
    "- you should have a .env with the IBM Cloud regional url, eg IBM_CLOUD_URL=https://us-south.ml.cloud.ibm.com \n",
    "- you should have a .env with the associated WatsonX project ID, eg PROJECT_ID=xxx"
   ]
  },
  {
   "cell_type": "code",
   "execution_count": 2,
   "metadata": {},
   "outputs": [],
   "source": [
    "#config Watsonx.ai environment\n",
    "load_dotenv()\n",
    "api_key = os.getenv(\"API_KEY\", None)\n",
    "ibm_cloud_url = os.getenv(\"IBM_CLOUD_URL\", None)\n",
    "project_id = os.getenv(\"PROJECT_ID\", None)\n",
    "if api_key is None or ibm_cloud_url is None or project_id is None:\n",
    "    raise Exception(\"Ensure you copied the .env file that you created earlier into the same directory as this notebook\")\n",
    "else:\n",
    "    creds = {\n",
    "        \"url\": ibm_cloud_url,\n",
    "        \"apikey\": api_key \n",
    "    }"
   ]
  },
  {
   "cell_type": "markdown",
   "metadata": {},
   "source": [
    "Helper function for text generation with the [WML Python SDK](https://ibm.github.io/watson-machine-learning-sdk/foundation_models.html) for foundation models."
   ]
  },
  {
   "cell_type": "code",
   "execution_count": 3,
   "metadata": {},
   "outputs": [],
   "source": [
    "def send_to_watsonxai(prompts,\n",
    "                    model_name=\"google/flan-ul2\",\n",
    "                    decoding_method=\"greedy\",\n",
    "                    max_new_tokens=100,\n",
    "                    min_new_tokens=30,\n",
    "                    temperature=1.0,\n",
    "                    repetition_penalty=1.0\n",
    "                    ):\n",
    "    '''\n",
    "   helper function for sending prompts and params to Watsonx.ai\n",
    "    \n",
    "    Args:  \n",
    "        prompts:list list of text prompts\n",
    "        decoding:str Watsonx.ai parameter \"sample\" or \"greedy\"\n",
    "        max_new_tok:int Watsonx.ai parameter for max new tokens/response returned\n",
    "        temperature:float Watsonx.ai parameter for temperature (range 0>2)\n",
    "        repetition_penalty:float Watsonx.ai parameter for repetition penalty (range 1.0 to 2.0)\n",
    "\n",
    "    Returns: None\n",
    "        prints response\n",
    "    '''\n",
    "\n",
    "    assert not any(map(lambda prompt: len(prompt) < 1, prompts)), \"make sure none of the prompts in the inputs prompts are empty\"\n",
    "\n",
    "    # Instantiate parameters for text generation\n",
    "    model_params = {\n",
    "        GenParams.DECODING_METHOD: decoding_method,\n",
    "        GenParams.MIN_NEW_TOKENS: min_new_tokens,\n",
    "        GenParams.MAX_NEW_TOKENS: max_new_tokens,\n",
    "        GenParams.RANDOM_SEED: 42,\n",
    "        GenParams.TEMPERATURE: temperature,\n",
    "        GenParams.REPETITION_PENALTY: repetition_penalty,\n",
    "    }\n",
    "\n",
    "\n",
    "    # Instantiate a model proxy object to send your requests\n",
    "    model = Model(\n",
    "        model_id=model_name,\n",
    "        params=model_params,\n",
    "        credentials=creds,\n",
    "        project_id=project_id)\n",
    "\n",
    "\n",
    "    for prompt in prompts:\n",
    "        print(model.generate_text(prompt))"
   ]
  },
  {
   "cell_type": "code",
   "execution_count": 4,
   "metadata": {},
   "outputs": [],
   "source": [
    "FLAN_T5_XXL = 'google/flan-t5-xxl'\n",
    "FLAN_UL2 = 'google/flan-ul2'\n",
    "GPT_NEOX = 'eleutherai/gpt-neox-20b'\n",
    "GRANITE_13B_CHAT = 'ibm/granite-13b-chat-v1'\n",
    "GRANITE_13B_INSTRUCT = 'ibm/granite-13b-instruct-v1'\n",
    "LLAMA_2_70B_CHAT = 'meta-llama/llama-2-70b-chat'\n",
    "MPT_7B_INSTRUCT2 = 'ibm/mpt-7b-instruct2'\n",
    "MT0_XXL = 'bigscience/mt0-xxl'\n",
    "STARCODER = 'bigcode/starcoder'"
   ]
  },
  {
   "cell_type": "markdown",
   "metadata": {},
   "source": [
    "informasi mengenai model yang tersedia dapat dilihat di [documentation](https://ibm.github.io/watson-machine-learning-sdk/model.html)"
   ]
  },
  {
   "cell_type": "markdown",
   "metadata": {},
   "source": [
    "***\n",
    "## Product Review for Questions  1 - 5"
   ]
  },
  {
   "cell_type": "code",
   "execution_count": null,
   "metadata": {},
   "outputs": [],
   "source": [
    "review = \"\"\"Kebetulan lagi perlu lampu untuk ruang tidur saya, dan ternyata \\\n",
    "    lampu tidur LightPro ini punya battery cadangan juga, dan dari segi harga juga cukup terjangkau, \\\n",
    "    jadi saya memutuskan langsung membelinya. Walau kabelnya rusak selama pengiriman, penjual mau menggantinya. \\\n",
    "    Dan ternyata ada bagian yang kurang lengkap juga, dan saya langsung memberi tahu penjual. \\\n",
    "    Barang yang kurang lengkap dikirim bersamaan dengan kabel yang baru! \\\n",
    "    menurut saya Lumina adalah perusahaan yang peduli dengan pelanggannya, dan bertanggung jawab \\\n",
    "    dengan produk mereka!!\"\"\"\n"
   ]
  },
  {
   "cell_type": "markdown",
   "metadata": {},
   "source": [
    "### Q1) write a prompt to return the sentiment of the review¶\n",
    "\n",
    "tentukan sentiment dari review diatas dengan cara __melengkapi prompt dibawah ini__\n",
    "\n",
    "`Target sentiment= positive`"
   ]
  },
  {
   "cell_type": "code",
   "execution_count": null,
   "metadata": {},
   "outputs": [],
   "source": [
    "#Q1 Code - enter prompt and parameters in this cell\n",
    "prompt = f\"\"\"\n",
    "{review}\"\"\" #Complete your prompt here \n",
    "\n",
    "response = send_to_watsonxai(prompts=[prompt])\n",
    "# Remember to try changing the model and/or using non-default parameters to achieve your goal when prompting isn't enough\n",
    "# response = send_to_watsonxai(prompts=[prompt], model_name=FLAN_UL2, decoding_method=\"greedy\", max_new_tokens=100,\n",
    "#                              min_new_tokens=30, temperature=1.0, repetition_penalty=2.0)"
   ]
  },
  {
   "cell_type": "markdown",
   "metadata": {},
   "source": [
    "### Q2) extract the emotions the reviewer expressed, return answer as a comma separated list"
   ]
  },
  {
   "cell_type": "markdown",
   "metadata": {},
   "source": [
    "tangkap emosi dari penulis saat mereka menuliskan reviewnya\n",
    "\n",
    "`Target emotions = puas, senang, perusahaan bagus, product bagus`"
   ]
  },
  {
   "cell_type": "code",
   "execution_count": null,
   "metadata": {},
   "outputs": [],
   "source": [
    "prompt = f\"\"\"\n",
    "Review text: '''{review}'''\n",
    "\"\"\"\n",
    "response = send_to_watsonxai(prompts=[prompt])\n",
    "# Remember to try changing the model and/or using non-default parameters to achieve your goal when prompting isn't enough\n",
    "# response = send_to_watsonxai(prompts=[prompt], model_name=FLAN_UL2, decoding_method=\"greedy\", max_new_tokens=100,\n",
    "#                              min_new_tokens=30, temperature=1.0, repetition_penalty=2.0)"
   ]
  },
  {
   "cell_type": "markdown",
   "metadata": {},
   "source": [
    "### Q3) Is the reviewer expressing anger, answer “yes” or “no” – test with your own example including anger to ensure it works in both cases."
   ]
  },
  {
   "cell_type": "markdown",
   "metadata": {},
   "source": [
    "Berdasarkan review yang diberikan, cari tahu apakah terdapat kemarahan yang ditangkap dari penulis.\n",
    "\n",
    "`Target answer = no`"
   ]
  },
  {
   "cell_type": "code",
   "execution_count": null,
   "metadata": {},
   "outputs": [],
   "source": [
    "prompt = f\"\"\"\n",
    "Review text: '''{review}'''\n",
    "\n",
    "\"\"\"\n",
    "response = send_to_watsonxai(prompts=[prompt])\n",
    "# Remember to try changing the model and/or using non-default parameters to achieve your goal when prompting isn't enough\n",
    "# response = send_to_watsonxai(prompts=[prompt], model_name=FLAN_UL2, decoding_method=\"greedy\", max_new_tokens=100,\n",
    "#                              min_new_tokens=30, temperature=1.0, repetition_penalty=2.0)"
   ]
  },
  {
   "cell_type": "markdown",
   "metadata": {},
   "source": [
    "### Q4) Extract the item purchased and the company name, return as JSON format\n",
    "\n",
    "Berdasarkan review yang diberikan, ekstrak informasi mengenai __nama product__ dan __nama perusahaan__ yang terdapat dalam review tersebut. Ubah keluaran menjadi __JSON Format__\n",
    "\n",
    "`Target answer: Item[lamp], Brand[Lumina]`"
   ]
  },
  {
   "cell_type": "code",
   "execution_count": null,
   "metadata": {},
   "outputs": [],
   "source": [
    "prompt = f\"\"\"\n",
    "Review text: ```{review}```\n",
    "\"\"\"\n",
    "\n",
    "response = send_to_watsonxai(prompts=[prompt])\n",
    "# Remember to try changing the model and/or using non-default parameters to achieve your goal when prompting isn't enough\n",
    "# response = send_to_watsonxai(prompts=[prompt], model_name=FLAN_UL2, decoding_method=\"greedy\", max_new_tokens=100,\n",
    "#                              min_new_tokens=30, temperature=1.0, repetition_penalty=2.0)"
   ]
  },
  {
   "cell_type": "markdown",
   "metadata": {},
   "source": [
    "### Q5) Can you combine 3-6 in a single prompt and return JSON with: Sentiment (negative or positive), Anger (yes/no), Product, Company\n",
    "\n",
    "Gabungkan jawaban dari pertanyaan 1 dan 4 menjadi 1 JSON file\n",
    "\n",
    "`Target answer = Sentiment[positive], Anger[false], Item[lamp], Brand[Lumina]`"
   ]
  },
  {
   "cell_type": "code",
   "execution_count": null,
   "metadata": {},
   "outputs": [],
   "source": [
    "prompt = f\"\"\"\n",
    "Review text: '''{review}'''\n",
    "\"\"\"\n",
    "response = send_to_watsonxai(prompts=[prompt])\n",
    "# Remember to try changing the model and/or using non-default parameters to achieve your goal when prompting isn't enough\n",
    "# response = send_to_watsonxai(prompts=[prompt], model_name=FLAN_UL2, decoding_method=\"greedy\", max_new_tokens=100,\n",
    "#                              min_new_tokens=30, temperature=1.0, repetition_penalty=2.0)"
   ]
  },
  {
   "cell_type": "markdown",
   "metadata": {},
   "source": [
    "***\n",
    "## Product Review for Questions  6 - 8"
   ]
  },
  {
   "cell_type": "code",
   "execution_count": 5,
   "metadata": {},
   "outputs": [],
   "source": [
    "review = \"\"\"Saya baru saja mencoba burger rendang di Burger Champs melalui applikasi mereka dan saya sangat menyukainya. \n",
    "Burger ini memiliki roti yang lembut dan empuk, daging yang juicy dan gurih, dan keju yang meleleh sempurna.\n",
    "Saus burgernya juga sangat lezat, dengan rasa yang pas dan tidak terlalu berlebihan. Sayurannya juga segar dan renyah.\n",
    "Harga yang cukup terjangkau untuk kualitas daging yang digunakan.\n",
    "\n",
    "Selain itu, burger ini tiba tepat waktu dan dalam keadaan yang masih hangat. Saya sangat puas dengan layanan pengantarannya.\n",
    "Pengemudi yang mengantarkan pesanan saya juga sangat ramah dan sopan. Dia juga sangat sigap dan mengantarkan pesanan saya dengan cepat.\n",
    "Secara keseluruhan, burger rendang di Burger Champs adalah salah satu burger terbaik yang pernah saya coba. \n",
    "Saya sangat merekomendasikannya kepada Anda yang mencari burger yang lezat dan menggugah selera, serta layanan pengantaran yang cepat dan profesional.\n",
    "\"\"\"\n"
   ]
  },
  {
   "cell_type": "markdown",
   "metadata": {},
   "source": [
    "### Q6) summarize the following product review\n",
    "\n",
    "__Berdasarkan Product Review diatas, buatlah summary seperti contoh berikut ini:__\n",
    "\n",
    "`Contoh Rangkuman: Pengulas menyukainya dengan burger tersebut dan menyebutkan bahwa roti, daging, keju, dan sayuran semuanya lezat dan segar.`"
   ]
  },
  {
   "cell_type": "code",
   "execution_count": 6,
   "metadata": {},
   "outputs": [],
   "source": [
    "# Contoh Prompt\n",
    "\n",
    "prompt = f\"\"\"Review: ```{review}```\n",
    "\n",
    "Review merupakan kalimat diantara 3 tanda kutip diatas.\n",
    "Buatlah rangkuman yang menjelaskan tentang apa yang diulas dalam Review diatas.\n",
    "Rangkuman terdiri dari maksimum 2 kalimat.\n",
    "Rangkuman:\n",
    "\"\"\"\n"
   ]
  },
  {
   "cell_type": "code",
   "execution_count": 9,
   "metadata": {},
   "outputs": [
    {
     "name": "stdout",
     "output_type": "stream",
     "text": [
      "\n",
      "1. Review ini mengulas tentang pengalaman memakan burger rendang di Burger Champs melalui aplikasi mereka.\n",
      "2. Pengulas menyukainya dengan burger tersebut dan menyebutkan bahwa roti, daging, keju, dan sayuran semuanya lezat dan segar.\n"
     ]
    }
   ],
   "source": [
    "\n",
    "#response = send_to_watsonxai(prompts=[prompt])\n",
    "#Remember to try changing the model and/or using non-default parameters to achieve your goal when prompting isn't enough\n",
    "response = send_to_watsonxai(prompts=[prompt], model_name=LLAMA_2_70B_CHAT, decoding_method=\"greedy\", max_new_tokens=200,\n",
    "                              min_new_tokens=30, repetition_penalty=1.0)\n",
    "\n",
    "response"
   ]
  },
  {
   "cell_type": "markdown",
   "metadata": {},
   "source": [
    "### Q7) Summarize the same product review from the delivery perspective\n",
    "\n",
    "__Berdasarkan review diatas, buatlah rangkuman yang berhubungan dengan pengiriman__\n",
    "\n",
    "`contoh rangkuman: Burger rendang di Burger Champs sangat lezat dan tiba tepat waktu. Pengemudi yang mengantarkan pesanan saya juga sangat ramah dan sopan. Secara keseluruhan, burger rendang di Burger Champs adalah salah satu burger terbaik yang pernah saya coba.`"
   ]
  },
  {
   "cell_type": "code",
   "execution_count": null,
   "metadata": {},
   "outputs": [],
   "source": [
    "#concise wrt feedback shipping\n",
    "prompt = f\"\"\"\n",
    "Review: ```{review}```\n",
    "\"\"\"\n",
    "response = send_to_watsonxai(prompts=[prompt])\n",
    "# Remember to try changing the model and/or using non-default parameters to achieve your goal when prompting isn't enough\n",
    "# response = send_to_watsonxai(prompts=[prompt], model_name=FLAN_UL2, decoding_method=\"greedy\", max_new_tokens=100,\n",
    "#                              min_new_tokens=30, temperature=1.0, repetition_penalty=2.0)"
   ]
  },
  {
   "cell_type": "markdown",
   "metadata": {},
   "source": [
    "### Q8) Summarize the review from the perspective of pricing and value\n",
    "\n",
    "__Berdasarkan review diatas, buatlah rangkuman dari sisi harga dan nilai produk yang dibeli__\n",
    "\n",
    "`contoh rangkuman: Harga yang cukup terjangkau untuk kualitas daging yang digunakan.`\n"
   ]
  },
  {
   "cell_type": "code",
   "execution_count": null,
   "metadata": {},
   "outputs": [],
   "source": [
    "#feedback pricing works - concise\n",
    "prompt = f\"\"\"\n",
    "Review: ```{review}```\n",
    "\"\"\"\n",
    "response = send_to_watsonxai(prompts=[prompt])\n",
    "# Remember to try changing the model and/or using non-default parameters to achieve your goal when prompting isn't enough\n",
    "# response = send_to_watsonxai(prompts=[prompt], model_name=FLAN_UL2, decoding_method=\"greedy\", max_new_tokens=100,\n",
    "#                              min_new_tokens=30, temperature=1.0, repetition_penalty=2.0)"
   ]
  },
  {
   "cell_type": "markdown",
   "metadata": {},
   "source": [
    "***\n",
    "### Q9) PII removal. Given the following email, write a prompt to remove the PII (eg names, emails etc) (Hint: you may need to use 1-2 shot technique)\n",
    "\n",
    "\n",
    "__Berdasarkan email berikut temukan PII. PII adalah singkatan dari Personally Identifiable Information, yang berarti informasi yang dapat digunakan untuk mengidentifikasi seseorang secara unik. Informasi ini dapat mencakup nama, alamat, nomor telepon, alamat email, nomor kartu kredit, dan informasi medis. Setelah itu tulis ulang email tanpa ada PII di dalamnya__"
   ]
  },
  {
   "cell_type": "code",
   "execution_count": 10,
   "metadata": {},
   "outputs": [],
   "source": [
    "email = \"\"\"\n",
    "Yth. Bapak Putra,\n",
    "\n",
    "Semoga email ini menemukan Bapak dalam keadaan sehat. Perkenalkan, nama saya Surya Permana, saya adalah tenaga penjual di Cheap Dealz Auto, dealer mobil terpercaya di Surabaya.\n",
    "Saya mengetahui bahwa Bapak baru saja membeli mobil baru. Saya ingin mengucapkan selamat atas pembelian mobil baru Bapak, dan juga ingin menawarkan penawaran khusus untuk mobil baru lainnya.\n",
    "Saat ini, Cheap Dealz Auto sedang mengadakan promo besar-besaran untuk mobil baru. Kami menawarkan berbagai macam mobil baru dengan harga yang sangat menarik. \n",
    "Selain itu, kami juga memberikan berbagai macam bonus dan hadiah menarik untuk setiap pembelian mobil baru.\n",
    "\n",
    "Jika Bapak tertarik untuk mengetahui lebih lanjut tentang promo kami, silakan hubungi saya melalui nomor telepon atau email di bawah ini. \n",
    "Saya akan dengan senang hati membantu Bapak memilih mobil baru yang sesuai dengan kebutuhan dan budget Bapak.\n",
    "\n",
    "Terima kasih atas perhatian Bapak.\n",
    "\n",
    "Hormat saya,\n",
    "\n",
    "Surya Permana\n",
    "Cheap Dealz Auto\n",
    "\n",
    "Jl. Soekarno hatta No.125, Surabaya\n",
    "\n",
    "No HP: (0812)12293456\n",
    "Email: SuryaPermana@CDAuto\n",
    "\n",
    "\"\"\"\n"
   ]
  },
  {
   "cell_type": "code",
   "execution_count": null,
   "metadata": {},
   "outputs": [],
   "source": [
    "prompt = f\"\"\"\n",
    "Input:\n",
    "{email}\n",
    "\n",
    "Output:\n",
    "\"\"\"\n",
    "response = send_to_watsonxai(prompts=[prompt])\n",
    "# Remember to try changing the model and/or using non-default parameters to achieve your goal when prompting isn't enough\n",
    "# response = send_to_watsonxai(prompts=[prompt], model_name=FLAN_UL2, decoding_method=\"greedy\", max_new_tokens=100,\n",
    "#                              min_new_tokens=30, temperature=1.0, repetition_penalty=2.0)"
   ]
  },
  {
   "cell_type": "markdown",
   "metadata": {},
   "source": [
    "### Q10) Basic inference: A patients a1c level determines their diabetes status, the rules are as follows:\n",
    "\n",
    "\n",
    "- Kurang dari 5,7: normal\n",
    "- Antara 5,7 dan 6,5: pradiabetes\n",
    "- Lebih besar dari 6,5: diabetes\n",
    "\n",
    "`Prompt untuk mengetahui status diabetes dari 3 kasus tes berikut:`\n",
    "\n",
    "1. A1C pasien adalah 5,5 yang menunjukkan resiko rendah.\n",
    "2. Dari laporan lab terakhir A1C dari pasien adalah 6,4 jadi kita perlu memberinya Ozempic.\n",
    "3. Pasien menyebutkan A1C-nya adalah 8 menurut pemeriksaan darahnya sekitar 3 tahun lalu.\n",
    "\n",
    "\n",
    "`Bonus 1: Bagaimana cara meningkatkan inferensi dengan menggunakan informasi lain dalam kalimat tersebut?`\n",
    "\n",
    "Untuk meningkatkan inferensi, kita dapat menggunakan informasi lain dalam kalimat tersebut, seperti faktor risiko lain, pengobatan yang diresepkan, dan riwayat medis pasien. Misalnya, pada kasus tes ke-2, kita dapat menyimpulkan bahwa pasien tersebut pradiabetes karena mereka diberi resep Ozempic, yang merupakan obat untuk pradiabetes dan diabetes.\n",
    "\n",
    "`Bonus 2: Bagaimana cara mengekstrak status diabetes berdasarkan catatan pasien tanpa nilai A1C dan apa yang perlu diperhatikan? (Petunjuk: mungkin mereka berbicara tentang riwayat keluarga penyakit atau komplikasi lain)`\n",
    "\n",
    "Untuk mengekstrak status diabetes berdasarkan catatan pasien tanpa nilai A1C, kita dapat mencari informasi berikut:\n",
    "- Riwayat keluarga diabetes\n",
    "- Komplikasi diabetes, seperti penyakit jantung, stroke, dan neuropati\n",
    "- Penggunaan obat diabetes\n",
    "- Gejala diabetes, seperti sering buang air kecil, haus terus-menerus, dan penurunan berat badan yang tidak dapat dijelaskan\n",
    "- Kita perlu berhati-hati saat mengekstrak status diabetes dari catatan pasien tanpa nilai A1C karena informasi yang diperlukan mungkin tidak selalu tersedia atau jelas Misalnya, riwayat keluarga diabetes mungkin tidak disebutkan dalam catatan pasien, dan komplikasi diabetes mungkin disebabkan oleh kondisi lain."
   ]
  },
  {
   "cell_type": "code",
   "execution_count": 11,
   "metadata": {},
   "outputs": [],
   "source": [
    "\n",
    "record1 = \"A1C pasien adalah 5,5 yang menunjukkan resiko rendah.\"\n",
    "record2 = \"Dari laporan lab terakhir A1C dari pasien adalah 6,4 jadi kita perlu memberinya Ozempic.\"\n",
    "record3 = \"Pasien menyebutkan A1C-nya adalah 8 menurut pemeriksaan darahnya sekitar 3 tahun lalu.\""
   ]
  },
  {
   "cell_type": "markdown",
   "metadata": {},
   "source": [
    "__Q10.1: Masukkan prompt dimana 3 record diatas menunjukkan hasil yang sesuai (normal, pradiabetes, diabetes)__"
   ]
  },
  {
   "cell_type": "code",
   "execution_count": null,
   "metadata": {},
   "outputs": [],
   "source": [
    "prompt = f\"\"\"\n",
    "'''{record1}'''\n",
    "\"\"\"\n",
    "\n",
    "send_to_watsonxai(prompts=[prompt])\n",
    "# Remember to try changing the model and/or using non-default parameters to achieve your goal when prompting isn't enough\n",
    "# response = send_to_watsonxai(prompts=[prompt], model_name=FLAN_UL2, decoding_method=\"greedy\", max_new_tokens=100,\n",
    "#                              min_new_tokens=30, temperature=1.0, repetition_penalty=2.0)"
   ]
  },
  {
   "cell_type": "markdown",
   "metadata": {},
   "source": [
    "__Q10.2: Gunakan hasil dari prompt Q10.1, dan tambahkan prompt yang menghasilkan \"Iya\" atau \"Tidak\" beresiko diabetes__"
   ]
  },
  {
   "cell_type": "code",
   "execution_count": null,
   "metadata": {},
   "outputs": [],
   "source": [
    "#This example derived from asking the model for the criteria first then copying the output into the prompt, we can change output to just \"answer yes or no\"\n",
    "prompt2 = f\"\"\"\n",
    "```{record2}```\n",
    "\"\"\"\n",
    "\n",
    "send_to_watsonxai(prompts=[prompt2])\n",
    "# Remember to try changing the model and/or using non-default parameters to achieve your goal when prompting isn't enough\n",
    "# response = send_to_watsonxai(prompts=[prompt], model_name=FLAN_UL2, decoding_method=\"greedy\", max_new_tokens=100,\n",
    "#                              min_new_tokens=30, temperature=1.0, repetition_penalty=2.0)"
   ]
  }
 ],
 "metadata": {
  "kernelspec": {
   "display_name": "genai",
   "language": "python",
   "name": "python3"
  },
  "language_info": {
   "codemirror_mode": {
    "name": "ipython",
    "version": 3
   },
   "file_extension": ".py",
   "mimetype": "text/x-python",
   "name": "python",
   "nbconvert_exporter": "python",
   "pygments_lexer": "ipython3",
   "version": "3.11.3"
  }
 },
 "nbformat": 4,
 "nbformat_minor": 2
}
