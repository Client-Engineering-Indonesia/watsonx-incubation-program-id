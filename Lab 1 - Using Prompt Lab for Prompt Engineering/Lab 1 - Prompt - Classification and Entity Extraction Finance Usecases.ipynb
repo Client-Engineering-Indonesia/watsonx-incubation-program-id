{
 "cells": [
  {
   "cell_type": "markdown",
   "metadata": {},
   "source": [
    "# Prompt: Classification and Entity Extraction Finance Usecases"
   ]
  },
  {
   "cell_type": "markdown",
   "metadata": {},
   "source": [
    "Notebook ini berisi beberapa contoh prompt yang bisa dicoba di Prompt Lab watsonx.ai.\n",
    "1. Klasifikasi sentiment pasar\n",
    "2. Mengekstrak metriks yang berhubungan dengan finance dari laporan pendapatan "
   ]
  },
  {
   "cell_type": "markdown",
   "metadata": {},
   "source": [
    "## A prompt to identify sentiment from a text description or statements related to market sentiment scenario.\n",
    "\n",
    "### Description:\n"
   ]
  },
  {
   "cell_type": "markdown",
   "metadata": {},
   "source": [
    "Prompt ini memungkinkan anda untuk meminta model melakukan sentiment analysis dari teks atau pernyataan yang berhubungan dengan Financial Service (FSS)."
   ]
  },
  {
   "cell_type": "markdown",
   "metadata": {},
   "source": [
    "### Prompt:"
   ]
  },
  {
   "cell_type": "code",
   "execution_count": null,
   "metadata": {},
   "outputs": [],
   "source": [
    "Anda adalah ahli dalam bidang Sentiment Pasar. Jika Anda diberikan input berupa deskripsi teks atau pernyataan yang terkait dengan skenario sentimen pasar, \n",
    "Anda akan mengidentifikasi sentimen dan memberikan Sentiment sebagai Positif, Netral, Negatif, atau Campuran.\n",
    "\n",
    "Input: Para investor merasa optimis tentang prospek masa depan XYZ Inc. Laporan pendapatan baru-baru ini melebihi ekspektasi, yang menyebabkan lonjakan harga saham dan sentimen pasar yang positif.\n",
    "Sentiment: Positif\n",
    "\n",
    "Input: Pasar saham mengalami kenaikan signifikan minggu ini, didorong oleh optimisme investor terhadap prospek ekonomi.\n",
    "Sentiment: Positif\n",
    "\n",
    "Input: Para investor semakin khawatir karena ketegangan yang terjadi di bidang perdaganan yang berdampak negatif terhadap pasar global. Banyak yang takut jika penurunan ekonomi secara terus-menerus akan terjadi.\n",
    "Sentiment: Negatif\n",
    "\n",
    "Input: Data ekonomi menunjukkan bahwa pertumbuhan ekonomi melambat.\n",
    "Sentiment: Negatif\n",
    "\n",
    "Input: Pasar menunjukkan pergerakan minimal hari ini, dengan sebagian besar indeks utama tetap relatif stabil. Investor sedang menunggu data ekonomi utama sebelum membuat keputusan besar.\n",
    "Sentiment: Netral\n",
    "\n",
    "Input: Pasar saham bergerak sideways hari ini, dengan indeks utama tetap relatif stabil.\n",
    "Sentiment: Netral\n",
    "\n",
    "Input: Meskipun pendapatan perusahaan meningkat, ada kekhawatiran tentang meningkatnya biaya dan potensi kejenuhan pasar. Investor memiliki pendapat yang beragam tentang masa depan saham.\n",
    "Sentiment: Kombinasi\n",
    "\n",
    "Input: Pasar saham mengalami kenaikan, tetapi beberapa indikator ekonomi menunjukkan tanda-tanda melemah.\n",
    "Sentiment: Kombinasi"
   ]
  },
  {
   "cell_type": "markdown",
   "metadata": {},
   "source": [
    "Gunakan instruksi dan contoh diatas, untuk menentukan sentiment dari pernyataan di bawah ini.\n",
    "Cobalah menggunakan model seperti `granite-13b-instruct-v1` yang telah ditraining dengan enterprise data yang dikurasikan dengan hati-hati. Atau model lain `mt0-xxl-13b` yang memungkinkan multi language. Jangan lupa utuk mengatur minimum token = 1"
   ]
  },
  {
   "cell_type": "code",
   "execution_count": null,
   "metadata": {},
   "outputs": [],
   "source": [
    "Input: Di tengah negosiasi perdagangan yang sedang berlangsung, para investor telah bersikap optimis dengan hati-hati tentang ketahanan pasar. Perundingan perdagangan baru-baru ini telah berjalan positif, yang menimbulkan harapan akan solusi. Namun, beberapa indikator ekonomi menunjukkan tanda-tanda melemah. Pasar saham telah mengalami fluktuasi sederhana, dan pendapat tentang situasi saat ini beragam.\n",
    "Sentiment: ???"
   ]
  },
  {
   "cell_type": "code",
   "execution_count": null,
   "metadata": {},
   "outputs": [],
   "source": [
    "Input: Investor optimistis tentang prospek ekonomi, tetapi ada juga kekhawatiran tentang ketidakpastian politik.\n",
    "Sentiment: ???"
   ]
  },
  {
   "cell_type": "code",
   "execution_count": null,
   "metadata": {},
   "outputs": [],
   "source": [
    "Input: Bank sentral menyatakan bahwa ekonomi semakin dan siap untuk pertumbuhan\n",
    "Sentiment: ???"
   ]
  },
  {
   "cell_type": "code",
   "execution_count": null,
   "metadata": {},
   "outputs": [],
   "source": [
    "Input: Pasar saham mengalami koreksi tajam setelah data ekonomi menunjukkan bahwa pertumbuhan ekonomi melambat\n",
    "Sentiment ???"
   ]
  },
  {
   "cell_type": "markdown",
   "metadata": {},
   "source": [
    "Untuk contoh lebih lanjut dari prompt yang berkaitan dengan finance dapat diakses [disini](https://github.ibm.com/client-engineering-watsonxai/prompt-library/tree/main/Financial%20Services)"
   ]
  },
  {
   "cell_type": "markdown",
   "metadata": {},
   "source": [
    "## Extraction of Financial Metrics from Earnings Reports\n",
    "\n",
    "### Description:\n",
    "\n",
    "### Prompt:"
   ]
  },
  {
   "cell_type": "code",
   "execution_count": null,
   "metadata": {},
   "outputs": [],
   "source": [
    "Berdasarkan laporan pendapatan tahunan atau quarterly perusahaan yang diperdagangkan secara publik, identifikasi dan ekstrak metrik keuangan berikut, beserta periode yang sesuai dan angka pembanding (jika tersedia):\n",
    "1. Revenue\n",
    "2. Net Income\n",
    "3. Earnings Before Interest, Taxes, Depreciation, and Amortization (EBITDA)\n",
    "4. Cash Flow\n",
    "Pastikan untuk menyertakan periode pelaporan (misalnya, Q1 2023 atau FY 2022) dan angka pembanding apa pun dari periode sebelumnya yang disebutkan di samping metrik. Juga, berikan sumber atau nomor halaman dari laporan tempat setiap metrik ditemukan.\n",
    "\n",
    "Input:\n",
    "Acme Corp melaporkan pendapatan bersih sebesar $45,2 juta untuk kuartal keempat tahun 2022, naik dari $40,1 juta pada kuartal yang sama tahun sebelumnya. Laba bersih mencapai $5,3 juta, meningkat dari $4,8 juta pada Q4 2021.\n",
    "\n",
    "Output:\n",
    "- Revenue: $45.2 juta (Q4 2022), $40.1 juta (Q4 2021)\n",
    "- Net Income: $5.3 juta (Q4 2022), $4.8 juta (Q4 2021)\n",
    "\n",
    "Input:\n",
    "Untuk tahun fiskal 2022, Beta Inc. memiliki laba bersih sebesar $150 juta, dan EBITDA sebesar $200 juta. Cash flow dari operasi dilaporkan sebesar $180 juta.\n",
    "\n",
    "Output:\n",
    "- Net Income: $150 juta (FY 2022)\n",
    "- EBITDA: $200 juta (FY 2022)\n",
    "- Cash Flow: $180 juta (FY 2022)"
   ]
  },
  {
   "cell_type": "markdown",
   "metadata": {},
   "source": [
    "Gunakan instruksi dan contoh diatas, untuk menentukan sentiment dari pernyataan di bawah ini.\n",
    "Cobalah menggunakan model seperti `granite-13b-instruct-v1` yang telah ditraining dengan enterprise data yang dikurasikan dengan hati-hati."
   ]
  },
  {
   "cell_type": "code",
   "execution_count": null,
   "metadata": {},
   "outputs": [],
   "source": [
    "Input: Gamma Industries mengumumkan pendapatan sebesar $75 juta untuk kuartal pertama tahun 2023, dengan laba bersih sebesar $10 juta. EBITDA untuk periode tersebut dilaporkan sebesar $15 juta, sedangkan arus kas dari operasi sebesar $20 juta.\n",
    "\n",
    "Output: ???"
   ]
  },
  {
   "cell_type": "code",
   "execution_count": null,
   "metadata": {},
   "outputs": [],
   "source": [
    "Input: PT. XYZ mengumumkan pendapatan sebesar Rp500 miliar untuk kuartal pertama tahun 2023, dengan laba bersih sebesar Rp50 miliar. EBITDA untuk periode tersebut dilaporkan sebesar Rp75 miliar, sedangkan arus kas dari operasi sebesar Rp100 miliar.\n",
    "\n",
    "Output: ???"
   ]
  }
 ],
 "metadata": {
  "language_info": {
   "name": "python"
  }
 },
 "nbformat": 4,
 "nbformat_minor": 2
}
