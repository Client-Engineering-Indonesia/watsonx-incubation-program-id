{
 "cells": [
  {
   "cell_type": "markdown",
   "metadata": {},
   "source": [
    "# Prompt engineering\n",
    "***\n",
    "\n",
    "__Note__: Catatan: Gambar berikut menunjukkan hasil dari watsonx.ai. Teks berwarna abu-abu adalah contoh input yang dapat berikan untuk model. Teks yang di-_highlight_ biru adalah respons dari model.\n",
    "\n",
    "\n",
    "### 1.0 LLM Foundations\n",
    "Sebelum kita mulai mengeksplorasi kemampuan watsonx.ai, pertama-tama kita perlu mengetahui tentang cara kerja Model Bahasa Besar (LLM), dan bagaimana kita dapat menyesuaikan model dan parameter untuk mengubah output yang dihasilkan. Mengetahui hal tersebut dapat membantu kita untuk lebih efisien menggunakan LLM model.\n",
    "\n",
    "![img-0-gui](https://github.ibm.com/Indonesia-Client-Engineering/watsonx-incubation-program-id/blob/main/Lab%201%20-%20Using%20Prompt%20Lab%20for%20Prompt%20Engineering/Images/img-0-gui.png?raw=true)\n",
    "\n",
    "Saat Anda membuka watsonx.ai, ini adalah tampilan yang akan ditunjukkan kepada Anda. Area teks tengah yang besar disebut Prompt Lab, atau Prompt Builder jika Anda memilih tampilan lebih lanjut dengan mengklik kotak centang di kiri atas. Di sisi kanan adalah parameter dari model yang dapat Anda gunakan untuk memilih guna mengoptimalkan respons model terhadap permintaan atau _prompt_ Anda. Dan di kiri bawah, terdapat ringkasan jumlah token yang digunakan oleh prompt Anda selama eksekusi.\n",
    "\n",
    "\n",
    "### 1.1 Tokens\n",
    "\n",
    "Each time you enter a prompt, your “input tokens” and “generated tokens” will update. Tokens are an important concept to understand as they constrain the performance of your model plus determine the cost of using models. As you will learn throughout the Labs, _tokens are not a 1:1 match with words in natural language_, but on average, one token is equal to __4 characters__. Before sending your prompt to the model, the prompt's text is Tokenized or broken into smaller subsets of characters better understood by a model.\n",
    "\n",
    "It is important to monitor your token usage to know how much information you are feeding into the model with each prompt, as well as how much text is generated for you. Depending on the model selected in Prompt Builder, you will see a __max of 2048 or 4096 tokens__. Keep in mind that _the more expressive you are with your prompt instructions, the less room the model has to respond back to you_.\n",
    "\n",
    "Setiap kali Anda melakukan prompting, “input tokens” dan “generated tokens”  akan diperbarui. Token adalah konsep penting untuk dipahami karena membatasi performa model Anda dan menentukan biaya penggunaan model. Seperti yang akan Anda pelajari di melalui Lab, _tokens bukanlah 1:1 dengan kata-kata yang ada dalam sebuah kalimat_, namun rata-rata, satu token sama dengan __4 karakter__. Sebelum mengirimkan perintah Anda ke model, teks perintah tersebut di-_Tokenized_ atau dipecah menjadi subkumpulan karakter yang lebih kecil yang lebih mudah dipahami oleh model.\n",
    "\n",
    "Penting untuk memantau penggunaan token Anda untuk mengetahui berapa banyak informasi yang Anda masukkan ke dalam model dalam setiap perintah, serta berapa banyak teks yang dihasilkan untuk Anda. Bergantung pada model yang dipilih di Prompt Builder, Anda akan melihat __maks 2048 atau 4096 token__. Ingatlah bahwa _semakin ekspresif Anda dalam memberikan instruksi, semakin sedikit \"ruang\" yang dimiliki model untuk merespons Anda_.\n",
    "\n",
    "\n",
    "### 1.2 Everything is text completion\n",
    "\n",
    "__watsonx.ai bukan chatbot interface__, terkadang hasil prompt tidak memberikan apa yang diharapkan, tapi kita dapat memberikan instruksi ke LLM model untuk melakukan sejumlah hal dengan cara yang lebih tepat. Misalnya, bagaimana jika kita meminta Watsonx.ai untuk:\n",
    "`Sebutkan langkah-langkah memulai bisnis online`\n",
    "\n",
    "![img-1-start-business-online](https://github.ibm.com/Indonesia-Client-Engineering/watsonx-incubation-program-id/blob/main/Lab%201%20-%20Using%20Prompt%20Lab%20for%20Prompt%20Engineering/Images/img-1-start-business-online.png?raw=true)\n",
    "\n",
    "Jawaban di atas bukanlah apa yang kita harapkan.\n",
    "\n",
    "### 1.3 Provide an example as guidance (or Single Shot Prompting)\n",
    "\n",
    "Untuk mendapatkan respons dengan kualitas yang lebih baik, berikan __contoh__ jenis respons yang Anda inginkan. Dalam istilah teknis, ini disebut _Single Shot Prompting_.\n",
    "\n",
    "\n",
    "![img-2-oneshot](https://github.ibm.com/Indonesia-Client-Engineering/watsonx-incubation-program-id/blob/main/Lab%201%20-%20Using%20Prompt%20Lab%20for%20Prompt%20Engineering/Images/img-2-oneshot.png?raw=true)\n",
    "\n",
    "Seperti yang Anda lihat, memberikan satu contoh sebelum memberikan perintah ke LLM disebut dengan _Single Shot Prompting_, namun menambahkan lebih banyak contoh ke dalam prompt juga lumrah untuk dilakukan. Umumnya, memberikan contoh dalam jumlah yang lebih dari satu disebut sebagai _“Few Shot Prompting”_ dan merupakan cara yang ampuh untuk memastikan Anda mendapatkan hasil yang spesifik.\n",
    "\n",
    "Gunakan teks berikut ini, untuk mencoba Prompt Builder:"
   ]
  },
  {
   "cell_type": "code",
   "execution_count": null,
   "metadata": {},
   "outputs": [],
   "source": [
    "Sebutkan langkah-langkah memulai bisnis online\n",
    "1. Pilih produk atau jasa yang akan Anda jual.\n",
    "2. Lakukan riset pasar.\n",
    "3. Buat rencana bisnis.\n",
    "4. Dapatkan izin dan sertifikasi yang diperlukan.\n",
    "5. Buat situs web atau toko online.\n",
    "6. Promosikan bisnis Anda.\n",
    "7. Layanan pelanggan yang baik.\n",
    "\n",
    "Sebutkan langkah-langkah memulai bisnis kuliner"
   ]
  },
  {
   "cell_type": "markdown",
   "metadata": {},
   "source": [
    "### 1.4 Include descriptive details\n",
    "Semakin detail instruksi yang diberikan, semakin baik pula:\n",
    "- Content\n",
    "- Style\n",
    "- Length\n",
    "dari response yang diberikan\n",
    "\n",
    "![img-3-instruct](https://github.ibm.com/Indonesia-Client-Engineering/watsonx-incubation-program-id/blob/main/Lab%201%20-%20Using%20Prompt%20Lab%20for%20Prompt%20Engineering/Images/img-3-instruct.png?raw=true)\n"
   ]
  },
  {
   "cell_type": "markdown",
   "metadata": {},
   "source": [
    "# Model Parameter\n",
    "***\n",
    "\n",
    "### 2.0 Adjusting Model behaviour\n",
    "Perubahan pertama yang bisa kita lakukan adalah model (LLM) apa yang kita gunakan untuk mengeksekusi prompt kita. Ini adalah salah satu perubahan terbesar yang dapat Anda lakukan, karena model tertentu dibuat lebih baik untuk tugas tertentu. Latihan selanjutnya di lab ini akan meminta Anda mengubah model yang digunakan jika ingin menjawab beberapa pertanyaan yang lebih menantang.\n",
    "\n",
    "Secara umum, beberapa model bekerja lebih baik dengan peringkasan, kata kunci, dan semantik, sementara model lainnya bekerja lebih baik dengan teks terstruktur seperti HTML, markdown, atau JSON. Cara terbaik untuk mengetahui model mana yang cocok untuk kasus penggunaan Anda adalah dengan mengujinya, namun penting untuk mengetahui bahwa pilihan model dapat membuat perbedaan besar!\n",
    "\n",
    "watsonx.ai juga menyediakan beberapa parameter untuk mengonfigurasi cara LLM merespons permintaan. Memilih parameter yang benar seringkali lebih merupakan seni daripada sains. Menginvestasikan waktu untuk memahami prompting dan kemudian mengubah parameter dari model dapat membantu menghasilkan respons yang lebih baik.\n",
    "\n",
    "Coba berkesperimen dalam pengaturan parameter dengan menggunakan teks berikut:"
   ]
  },
  {
   "cell_type": "code",
   "execution_count": null,
   "metadata": {},
   "outputs": [],
   "source": [
    "Sebutkan langkah-langkah memulai bisnis online\n",
    "1. Pilih produk atau jasa yang akan Anda jual.\n",
    "2. Lakukan riset pasar.\n",
    "3. Buat rencana bisnis.\n",
    "4. Dapatkan izin dan sertifikasi yang diperlukan.\n",
    "5. Buat situs web atau toko online.\n",
    "6. Promosikan bisnis Anda.\n",
    "7. Layanan pelanggan yang baik.\n",
    "\n",
    "Sebutkan langkah-langkah memulai bisnis kuliner"
   ]
  },
  {
   "cell_type": "markdown",
   "metadata": {},
   "source": [
    "### 2.1 Set the min and max tokens\n",
    "\n",
    "Jika Anda merasa teks yang dihasilkan terlalu pendek atau panjang, coba sesuaikan parameter yang mengontrol jumlah token baru:\n",
    "- Parameter __Min new tokens__ mengontrol jumlah minimum token (~kata) dari respons yang dihasilkan\n",
    "- Parameter __Max new tokens__ mengontrol jumlah maksimum token (~kata) dari respons yang dihasilkan\n",
    "\n",
    "![img-21-token](https://github.ibm.com/Indonesia-Client-Engineering/watsonx-incubation-program-id/blob/main/Lab%201%20-%20Using%20Prompt%20Lab%20for%20Prompt%20Engineering/Images/img-21-token.png?raw=true)\n",
    "\n",
    "### 2.2 Specify stop sequences\n",
    "\n",
    "Jika Anda menentukan _stop sequence_, output akan otomatis berhenti ketika salah satu _stop sequence_ muncul pada keluaran yang dihasilkan.\n",
    "__double enter__ biasa ditambahkan mencegah model mengenerate ulang output dikarenakan jumlah token yang dihasilkan belum mencapai _max tokens_\n",
    "\n",
    "![img-ext-stopping-criteria](https://github.ibm.com/client-engineering-watsonxai/workshop-watsonxai-foundations/raw/main/self-guided-labs/level-1/lab-01-intro-to-prompt-engineering/images/list-ideas-11.png)\n",
    "\n",
    "\n",
    "### 2.3 Adjust decoding parameters\n",
    "\n",
    "Jika responsnya terlalu umum atau menyimpang, pertimbangkan untuk mengatur parameter decoding. Atau ketika response mungkin kurang kreatif, pengaturan juga ada baiknya dilakukan.\n",
    "\n",
    "`Decoding adalah proses menentukan urutan keluaran berdasarkan urutan masukan`\n",
    "\n",
    "- `Greedy decoding` memilih kata dengan probabilitas tertinggi pada setiap langkah proses decoding.\n",
    "- `Sampling decoding` memilih kata-kata dari distribusi probabilitas di setiap langkah\n",
    "- `Temperatur` mengacu pada pemilihan kata dengan probabilitas tinggi atau rendah. Nilai temperature yang lebih tinggi menyebabkan lebih banyak variabilitas.\n",
    "- Top-p (pengambilan sampel inti) mengacu pada pemilihan kumpulan kata terkecil yang probabilitas kumulatifnya melebihi p.\n",
    "- Top-k mengacu pada pemilihan k-kata dengan probabilitas tertinggi di setiap langkah. Nilai yang lebih tinggi menyebabkan lebih banyak variabilitas.\n",
    "Keuntungan dari penguraian Greedy decosing adalah Anda akan melihat hasil yang dapat direproduksi. Ini dapat berguna saat melakukan pengetesan. Menyetel temperature=0 dalam pendekatan sampling decoding memberikan variasi yang sama seperti Greedy decoding.\n",
    "\n",
    "![img-22-param](https://github.ibm.com/Indonesia-Client-Engineering/watsonx-incubation-program-id/blob/main/Lab%201%20-%20Using%20Prompt%20Lab%20for%20Prompt%20Engineering/Images/img-22-param.png?raw=true)\n",
    "\n",
    "### 2.4 Add a repetition penalty\n",
    "\n",
    "Terkadang, Anda akan melihat teks yang diulang-ulang. Menaikkan temperature terkadang dapat menyelesaikan masalah. Namun, ketika teks masih berulang bahkan dengan dengan pengaturan temperature yang lebih tinggi, Anda dapat mencoba menambahkan _repetition penality_. Semakin tinggi nilai penalty-nya, semakin kecil kemungkinan terdapatnya teks berulang.\n",
    "\n",
    "\n",
    "### 2.5 Excellent 3rd party blog post on model parameters\n",
    "\n",
    "Uraian di atas memberikan pengenalan yang cukup baik tentang parameter apa saja yang model. Namun Anda harus membaca [artikel ini](https://txt.cohere.com/llm-parameters-best-outputs-language-ai) tentang parameter yang dimiliki model karena dapat memberikan contoh tambahan yang sangat baik tentang bagaimana parameter model bekerja ditambah ada ilustrasi yang dapat membantu Anda lebih memahami konsepnya. Semakin baik Anda memahami parameter model, semakin anda terhindar dari frustrasi dan semakin mudah untuk menyesuaikan model agar berfungsi sesuai kebutuhan Anda."
   ]
  },
  {
   "cell_type": "markdown",
   "metadata": {},
   "source": [
    "# General advice\n",
    "***\n",
    "\n",
    "### 3.1 Try different models\n",
    "\n",
    "Jika prompt anda tidak menghasilkan apa yang anda inginkan, terutama apabila prompt dibuat dalam Bahasa Indonesia, cobalah ganti pilihan model yang digunakan\n",
    "![img-31-models](https://github.ibm.com/Indonesia-Client-Engineering/watsonx-incubation-program-id/blob/main/Lab%201%20-%20Using%20Prompt%20Lab%20for%20Prompt%20Engineering/Images/img-31-models.png?raw=true)\n",
    "\n",
    "\n",
    "### 3.2 Check your use case\n",
    "\n",
    "LLM memiliki potensi besar, tetapi LLM tidak memiliki logika, pengetahuan, dan domain expert. Beberapa kasus lebih cocok dibandingkan dengan kasus yang lain: LLM unggul dalam tugas-tugas yang melibatkan _text generation_ atau mengenali kesamaan pattern dan mentransformasikan input teks yang diberikan.\n",
    "\n",
    "Jika _prompt_ yang diberikan sudah menggunakan _best pracatice_ yang dibahas di sini, namun tetap tidak mendapatkan hasil yang baik dari model mana pun, mungkin saja kasus yang dipilih merupakan hal yang tidak dapat ditangani dengan baik oleh LLM.\n",
    "\n",
    "Misalnya, meskipun kita bisa mendapatkan hasil yang cukup layak untuk aritmatika sederhana, LLM umumnya tidak bisa mengerjakan matematika dengan baik: [Researchers find that large language models struggle with math](https://venturebeat.com/business/researchers-find-that-large-language-models-struggle-with-math/)\n",
    "\n",
    "### 4.0 Balancing intelligence and security\n",
    "\n",
    "Dengan kecerdasan buatan yang hebat, terdapat risiko keamanan yang lebih tinggi. Solusi seperti ChatGPT adalah Very large Language Model (VLLM) dengan 175 miliar parameter. Mereka dibuat oleh tim OpenAI menggunakan kumpulan data Obrolan non-publik sebagai tambahan dan kumpulan data Reinforcement Learning Human Feedback (RLHF). ChatGPT adalah LLM yang dibuat seperti chatbot.\n",
    "\n",
    "Di watsonx.ai, kami berinteraksi langsung dengan LLM yang lebih kecil (3-20 miliar parameter). Ini adalah pilihan bijak dari sudut pandang keamanan. _prompt injection_ merupakan risiko besar bagi penggunaan LLM di perusahaan. Dengan menggunakan _prompt injection_ , hacker akan membuat perintah rumit yang menyebabkan LLM seperti ChatGPT mengabaikan/melewati protokol keamanan dan mengungkapkan informasi sensitif perusahaan. Bayangkan saja Anda seorang hacker. Model manakah yang akan Anda pilih sebagai target _prompt injection_ ? ChatGPT OpenAI dengan 175 miliar parameter yang mampu melakukan ribuan tugas atau model parameter 3 miliar yang lebih kecil dan lebih fokus sangat disesuaikan untuk beberapa tugas terisolasi? Manakah yang memiliki _attack surface_ yang lebih luas untuk terjadinya _prompt re-engineering_?\n",
    "\n",
    "Model yang lebih kecil dan sederhana di watsonx.ai lebih menantang bagi calon hacker. Menggunakan banyak model kecil dibandingkan satu model besar seperti ChatGPT menciptakan distribusi _sensitive entry points_ yang lebih luas. Setiap model bahasa yang kecil jauh lebih sulit untuk dimanipulasi karena fungsinya yang terbatas dan _prompt engineering_ tingkat tinggi yang diperlukan untuk melakukan tugas utamanya. Mereka tidak memiliki berbagai fungsi seperti ChatGPT. Seperti yang diketahui para programmer, kehilangan semua sumber daya Anda hanya dengan satu kegagalan adalah tindakan yang tidak bijaksana. Jauh lebih baik untuk menguraikan solusi Anda demi keamanan, skalabilitas, dan kontrol.\n",
    "\n",
    "Untuk keamanan, lebih kecil lebih baik. Selain manfaat keamanan, terdapat peningkatan komputasi dengan menggunakan model yang lebih kecil dan berbobot lebih ringan. Mari kita lebih banyak berinteraksi dengan LLM watsonx.ai untuk lebih memahami dan mempelajari cara membuat mereka merespons sesuai kebutuhan kita.\n"
   ]
  },
  {
   "cell_type": "markdown",
   "metadata": {},
   "source": [
    "# Further Reading\n",
    "- [OpenAI prompt intro](https://platform.openai.com/docs/guides/gpt-best-practices)\n",
    "- [OpenAI prompt engineering tutorial](https://help.openai.com/en/articles/6654000-best-practices-for-prompt-engineering-with-openai-api)\n",
    "- [co:here prompt engineering tutorial](https://docs.cohere.ai/docs/prompt-engineering)\n"
   ]
  },
  {
   "cell_type": "markdown",
   "metadata": {},
   "source": []
  }
 ],
 "metadata": {
  "kernelspec": {
   "display_name": "genai",
   "language": "python",
   "name": "python3"
  },
  "language_info": {
   "codemirror_mode": {
    "name": "ipython",
    "version": 3
   },
   "file_extension": ".py",
   "mimetype": "text/x-python",
   "name": "python",
   "nbconvert_exporter": "python",
   "pygments_lexer": "ipython3",
   "version": "3.11.3"
  }
 },
 "nbformat": 4,
 "nbformat_minor": 2
}
